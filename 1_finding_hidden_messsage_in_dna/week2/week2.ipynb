{
 "cells": [
  {
   "cell_type": "markdown",
   "metadata": {},
   "source": [
    "# Where in the Genome Does DNA Replication Begin?\n",
    "\n",
    "I omit these section: \n",
    "*1.1 The Simplest Way to Replicate DNA\n",
    "*1.2 Asymmetry of Replication\n",
    "\n",
    "Because it basically a revisit of how DNA replication works. \n",
    "\n"
   ]
  }
 ],
 "metadata": {
  "language_info": {
   "name": "python"
  }
 },
 "nbformat": 4,
 "nbformat_minor": 2
}
