{
 "cells": [
  {
   "cell_type": "markdown",
   "metadata": {},
   "source": [
    "# Where in the Genome Does DNA Replication Begin?\n",
    "\n",
    "I omit these section: \n",
    "*1.1 The Simplest Way to Replicate DNA\n",
    "*1.2 Asymmetry of Replication\n",
    "\n",
    "Because it basically a revisit of how DNA replication works. \n",
    "\n"
   ]
  },
  {
   "cell_type": "markdown",
   "metadata": {},
   "source": [
    "## 1.3 Peculiar Statistics of the Forward and Reverse Half-Strands\n",
    "### Minimum Skew Problem\n",
    "It turned out, there's interesting phenomenon: GC Skew - It's a measure of the difference in the frequency of guanine (G) and cytosine (C) between the leading and lagging strands during DNA replication. In many organisms, the leading strand (which is synthesized continuously) tends to have a higher frequency of G and T, while the lagging strand (which is synthesized discontinuously) has a higher frequency of A and C."
   ]
  },
  {
   "cell_type": "code",
   "execution_count": null,
   "metadata": {},
   "outputs": [
    {
     "name": "stdout",
     "output_type": "stream",
     "text": [
      "[11, 24]\n"
     ]
    }
   ],
   "source": [
    "def minimum_skew_problem(dna):\n",
    "    skew = [0]\n",
    "    for i in range(len(dna)):\n",
    "        if dna[i] == 'C':\n",
    "            skew.append(skew[i] - 1)\n",
    "        elif dna[i] == 'G':\n",
    "            skew.append(skew[i] + 1)\n",
    "        else:\n",
    "            skew.append(skew[i])\n",
    "    min_skew = min(skew)\n",
    "    return [i for i, x in enumerate(skew) if x == min_skew]\n",
    "\n",
    "# Example usage\n",
    "dna = 'TAAAGACTGCCGAGAGGCCAACACGAGTGCTAGAACGAGGGGCGTAAACGCGGGTCCGAT'\n",
    "print(minimum_skew_problem(dna))  # Output: [11, 24]"
   ]
  },
  {
   "cell_type": "markdown",
   "metadata": {},
   "source": [
    "## 1.4 Some Hidden Messages are More Elusive than Others\n",
    "Now, after we found (approximate) the position of the ori using the GC skew, we would like to confirm which k-mers is the ori.\n",
    "In previous lecture, we used the frequent word searching to find frequency of the k-mers. However, turned out you might not found frequent word at all around the ori. What gives?\n",
    "\n",
    "Turned out, the dna fragment where the DnaA binds doesn't have to be exactly the same. It allows some nucleotides mismatches!\n",
    "\n",
    "### Hamming Distance Problem\n",
    "That being said, we now have to alter our algorithm for searching ori k-mers to allow some mismatches. But first, let us start from calculating how far off the mismatched k-mers from the original. We use hamming distance calculation for this.\n",
    "\n",
    "We say that position i in k-mers p1 … pk and q1 … qk is a mismatch if pi ≠ qi. For example, CGAAT and CGGAC have two mismatches. The number of mismatches between strings p and q is called the Hamming distance between these strings and is denoted HammingDistance(p, q)."
   ]
  },
  {
   "cell_type": "code",
   "execution_count": 1,
   "metadata": {},
   "outputs": [
    {
     "name": "stdout",
     "output_type": "stream",
     "text": [
      "3\n"
     ]
    }
   ],
   "source": [
    "def hamming_distance(p, q):\n",
    "    return sum([1 for i in range(len(p)) if p[i] != q[i]])\n",
    "\n",
    "# Example usage\n",
    "p = 'GGGCCGTTGGT'\n",
    "q = 'GGACCGTTGAC'\n",
    "print(hamming_distance(p, q))  # Output: 3"
   ]
  },
  {
   "cell_type": "markdown",
   "metadata": {},
   "source": [
    "### Approximate Pattern (Similar Pattern) Matching Problem\n",
    "Now that we have the hamming distance, we can calculate the pattern matching with approximation.\n",
    "\n",
    "We say that a k-mer appears as a substring of Text with at most d mismatches if there is some other k-mer from `Text` having `d` or fewer mismatches with `Pattern`. "
   ]
  },
  {
   "cell_type": "code",
   "execution_count": 2,
   "metadata": {},
   "outputs": [
    {
     "name": "stdout",
     "output_type": "stream",
     "text": [
      "[6, 7, 26, 27]\n"
     ]
    }
   ],
   "source": [
    "def approximate_pattern_matching(pattern, text, d):\n",
    "    positions = []\n",
    "    for i in range(len(text) - len(pattern) + 1):\n",
    "        if hamming_distance(pattern, text[i:i + len(pattern)]) <= d:\n",
    "            positions.append(i)\n",
    "    return positions\n",
    "\n",
    "# Example usage\n",
    "pattern = 'ATTCTGGA'\n",
    "text = 'CGCCCGAATCCAGAACGCATTCCCATATTTCGGGACCACTGGCCTCCACGGTACGGACGTCAATCAAAT'\n",
    "d = 3\n",
    "print(approximate_pattern_matching(pattern, text, d))  # Output: [6, 7, 26, 27]"
   ]
  },
  {
   "cell_type": "markdown",
   "metadata": {},
   "source": [
    "### Counting the Approximate Pattern (Similar Pattern)\n",
    "We also would like to count how many approximate pattern (similar pattern) that match with the original k-mer.\n",
    "\n",
    "You can do this with the code below, or just get the length from the returned result of `approximate_pattern_matching` function above."
   ]
  },
  {
   "cell_type": "code",
   "execution_count": 3,
   "metadata": {},
   "outputs": [
    {
     "name": "stdout",
     "output_type": "stream",
     "text": [
      "4\n"
     ]
    }
   ],
   "source": [
    "def approximate_pattern_count(pattern, text, d):\n",
    "    count = 0\n",
    "    for i in range(len(text) - len(pattern) + 1):\n",
    "        if hamming_distance(pattern, text[i:i + len(pattern)]) <= d:\n",
    "            count += 1\n",
    "    return count\n",
    "\n",
    "# Example usage\n",
    "pattern = 'GAGG'\n",
    "text = 'TTTAGAGCCTTCAGAGG'\n",
    "d = 2\n",
    "print(approximate_pattern_count(pattern, text, d))  # Output: 4"
   ]
  },
  {
   "cell_type": "markdown",
   "metadata": {},
   "source": [
    "### Frequent Words with Mismatches\n",
    "Given the function of `approximate_pattern_matching` and `approximate_pattern_count` above, we should be able to reformulate our frequent word searching from exact matches to similar matches.\n",
    "\n",
    "The code below calculates the most frequent words (k-mer) and output the k-mer as the result. We utilize neighbors function to find the possible similar k-mers (in this course is called neighbor) that have at most `d` differences."
   ]
  },
  {
   "cell_type": "code",
   "execution_count": 11,
   "metadata": {},
   "outputs": [
    {
     "name": "stdout",
     "output_type": "stream",
     "text": [
      "{'GATG', 'ATGC', 'ATGT'}\n"
     ]
    }
   ],
   "source": [
    "def frequent_words_with_mismatches(text, k, d):\n",
    "    patterns = set()\n",
    "    freq_map = {}\n",
    "    n = len(text)\n",
    "    max_count = 0\n",
    "    for i in range(n - k + 1):\n",
    "        pattern = text[i:i + k]\n",
    "        neighborhood = neighbors(pattern, d)\n",
    "        for neighbor in neighborhood:\n",
    "            if neighbor in freq_map:\n",
    "                freq_map[neighbor] += 1\n",
    "            else:\n",
    "                freq_map[neighbor] = 1\n",
    "            if freq_map[neighbor] > max_count:\n",
    "                max_count = freq_map[neighbor]\n",
    "    for key in freq_map:\n",
    "        if freq_map[key] == max_count:\n",
    "            patterns.add(key)\n",
    "    return patterns\n",
    "\n",
    "def neighbors(pattern, d):\n",
    "    if d == 0:\n",
    "        return {pattern}\n",
    "    if len(pattern) == 1:\n",
    "        return {'A', 'C', 'G', 'T'}\n",
    "    neighborhood = set()\n",
    "    suffix_neighbors = neighbors(pattern[1:], d)\n",
    "    for text in suffix_neighbors:\n",
    "        if hamming_distance(pattern[1:], text) < d:\n",
    "            for x in ['A', 'C', 'G', 'T']:\n",
    "                neighborhood.add(x + text)\n",
    "        else:\n",
    "            neighborhood.add(pattern[0] + text)\n",
    "    return neighborhood\n",
    "\n",
    "# Example usage\n",
    "text = 'ACGTTGCATGTCGCATGATGCATGAGAGCT'\n",
    "k = 4\n",
    "d = 1\n",
    "print(frequent_words_with_mismatches(text, k, d))  # Output: {'ATGT', 'GATG', 'ATGC'}"
   ]
  },
  {
   "cell_type": "markdown",
   "metadata": {},
   "source": [
    "### Frequent Words with Mismatches and Reverse Complements Problem\n",
    "Now that we have all the necessary approach and functions, we can build another function that not only find the most frequent k-mers with mismatches, but also its reverse complements."
   ]
  },
  {
   "cell_type": "code",
   "execution_count": 7,
   "metadata": {},
   "outputs": [
    {
     "name": "stdout",
     "output_type": "stream",
     "text": [
      "['ATGT', 'ACAT']\n"
     ]
    }
   ],
   "source": [
    "def reverse_complement(pattern):\n",
    "    complement = {'A': 'T', 'C': 'G', 'G': 'C', 'T': 'A'}\n",
    "    return ''.join(complement[nucleotide] for nucleotide in reversed(pattern))\n",
    "\n",
    "def frequent_words_with_mismatches_and_reverse_complements(dna, k, d):\n",
    "    kmer_counts = {}\n",
    "    for i in range(len(dna) - k + 1):\n",
    "        kmer = dna[i:i+k]\n",
    "        kmer_neighbors = neighbors(kmer, d)\n",
    "        for neighbor in kmer_neighbors:\n",
    "            reverse_neighbor = reverse_complement(neighbor)\n",
    "            if neighbor not in kmer_counts:\n",
    "                kmer_counts[neighbor] = 0\n",
    "            if reverse_neighbor not in kmer_counts:\n",
    "                kmer_counts[reverse_neighbor] = 0\n",
    "            kmer_counts[neighbor] += 1\n",
    "            kmer_counts[reverse_neighbor] += 1\n",
    "    max_count = max(kmer_counts.values())\n",
    "    return [kmer for kmer, count in kmer_counts.items() if count == max_count]\n",
    "\n",
    "\n",
    "# Example usage\n",
    "text = 'ACGTTGCATGTCGCATGATGCATGAGAGCT'\n",
    "k = 4\n",
    "d = 1\n",
    "print(frequent_words_with_mismatches_and_reverse_complements(text, k, d))  # Output: {'ACAT', 'ATGT'}"
   ]
  },
  {
   "cell_type": "code",
   "execution_count": null,
   "metadata": {},
   "outputs": [],
   "source": []
  }
 ],
 "metadata": {
  "kernelspec": {
   "display_name": "Python 3",
   "language": "python",
   "name": "python3"
  },
  "language_info": {
   "codemirror_mode": {
    "name": "ipython",
    "version": 3
   },
   "file_extension": ".py",
   "mimetype": "text/x-python",
   "name": "python",
   "nbconvert_exporter": "python",
   "pygments_lexer": "ipython3",
   "version": "3.12.1"
  }
 },
 "nbformat": 4,
 "nbformat_minor": 2
}
