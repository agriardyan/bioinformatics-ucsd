{
 "cells": [
  {
   "cell_type": "markdown",
   "metadata": {},
   "source": [
    "# Which DNA Patterns Serve as Molecular Clocks?\n",
    "In the DNA, there are regulatory sections, which is fragments that serves as a switch or conditional, rather than to be coded to protein. In this course, the section (regardless of regulatory or not) is called as `motif`.\n",
    "\n",
    "Note: I think the course is quite inconsistent in naming things. Earlier it was called k-mers, substring, fragment, etc.\n",
    "\n",
    "## 1.2 Motif Finding Is More Difficult Than You Think\n",
    "Earlier on Week 2, we learn about frequent words with mismatches (remember function `frequent_words_with_mismatches`?). Now there's similar problem we approach. Below is the example mimics a transcription factor binding site hiding in the upstream regions of ten genes. Here we have k-mers of 15-mers. It's long enough to slow down the `frequent_words_with_mismatches`. We need better algorithm!\n",
    "\n",
    "```\n",
    "1 \"atgaccgggatactgatAgAAgAAAGGttGGGggcgtacacattagataaacgtatgaagtacgttagactcggcgccgccg\"\n",
    "2 \"acccctattttttgagcagatttagtgacctggaaaaaaaatttgagtacaaaacttttccgaatacAAtAAAAcGGcGGGa\"\n",
    "3 \"tgagtatccctgggatgacttAAAAtAAtGGaGtGGtgctctcccgatttttgaatatgtaggatcattcgccagggtccga\"\n",
    "4 \"gctgagaattggatgcAAAAAAAGGGattGtccacgcaatcgcgaaccaacgcggacccaaaggcaagaccgataaaggaga\"\n",
    "5 \"tcccttttgcggtaatgtgccgggaggctggttacgtagggaagccctaacggacttaatAtAAtAAAGGaaGGGcttatag\"\n",
    "6 \"gtcaatcatgttcttgtgaatggatttAAcAAtAAGGGctGGgaccgcttggcgcacccaaattcagtgtgggcgagcgcaa\"\n",
    "7 \"cggttttggcccttgttagaggcccccgtAtAAAcAAGGaGGGccaattatgagagagctaatctatcgcgtgcgtgttcat\"\n",
    "8 \"aacttgagttAAAAAAtAGGGaGccctggggcacatacaagaggagtcttccttatcagttaatgctgtatgacactatgta\"\n",
    "9 \"ttggcccattggctaaaagcccaacttgacaaatggaagatagaatccttgcatActAAAAAGGaGcGGaccgaaagggaag\"\n",
    "10 \"ctggtgagcaacgacagattcttacgtgcattagctcgcttccggggatctaatagcacgaagcttActAAAAAGGaGcGGa\"\n",
    "```\n",
    "\n",
    "### Implanted Motif Problem (Motif Enumeration)\n",
    "We'll try first with brute force approach. This one is motif enumeration. Such algorithms require little effort to design and are guaranteed to produce a correct solution, but they may take an enormous amount of time, and the number of candidates may be too large to check.\n",
    "\n",
    "Given a collection of strings Dna and an integer d, a k-mer is a (k,d)-motif if it appears in every string from Dna with at most d mismatches. For example, the implanted 15-mer in the strings above represents a (15,4)-motif."
   ]
  },
  {
   "cell_type": "code",
   "execution_count": null,
   "metadata": {},
   "outputs": [
    {
     "name": "stdout",
     "output_type": "stream",
     "text": [
      "{'ATT', 'ATA', 'GTT', 'TTT'}\n"
     ]
    }
   ],
   "source": [
    "def hamming_distance(s1, s2):\n",
    "    return sum([1 for i in range(len(s1)) if s1[i] != s2[i]])\n",
    "\n",
    "def minimal_hamming_distance(pattern, dna):\n",
    "    k = len(pattern)\n",
    "    min_distance = k\n",
    "    for i in range(len(dna) - k + 1):\n",
    "        distance = min([hamming_distance(pattern, dna[i:i+k]) for i in range(len(dna) - k + 1)])\n",
    "        if distance < min_distance:\n",
    "            min_distance = distance\n",
    "    return min_distance\n",
    "\n",
    "def neighbors(pattern, d):\n",
    "    if d == 0:\n",
    "        return {pattern}\n",
    "    if len(pattern) == 1:\n",
    "        return {'A', 'C', 'G', 'T'}\n",
    "    neighborhood = set()\n",
    "    suffix_neighbors = neighbors(pattern[1:], d)\n",
    "    for text in suffix_neighbors:\n",
    "        if hamming_distance(pattern[1:], text) < d:\n",
    "            for x in ['A', 'C', 'G', 'T']:\n",
    "                neighborhood.add(x + text)\n",
    "        else:\n",
    "            neighborhood.add(pattern[0] + text)\n",
    "    return neighborhood\n",
    "\n",
    "def pattern_count(text, pattern, d):\n",
    "    count = 0\n",
    "    for i in range(len(text) - len(pattern) + 1):\n",
    "        if hamming_distance(text[i:i+len(pattern)], pattern) <= d:\n",
    "            count += 1\n",
    "    return count\n",
    "\n",
    "def motif_enumeration(dna, k, d):\n",
    "    patterns = set()\n",
    "    joined_dna = ''.join(dna)\n",
    "    for i in range(len(joined_dna) - k + 1):\n",
    "        pattern = joined_dna[i:i+k]\n",
    "        for neighbor in neighbors(pattern, d):\n",
    "            if all([pattern_count(dna[i], neighbor, d) > 0 for i in range(len(dna))]):\n",
    "                patterns.add(neighbor)\n",
    "    return patterns\n",
    "\n",
    "# Example usage\n",
    "dna = ['ATTTGGC', 'TGCCTTA', 'CGGTATC', 'GAAAATT']\n",
    "k = 3\n",
    "d = 1\n",
    "print(motif_enumeration(dna, k, d)) # Output: {'ATA', 'ATT', 'GTT', 'TTT'}"
   ]
  },
  {
   "cell_type": "markdown",
   "metadata": {},
   "source": [
    "That was complicated isn't it? It took me several hours to figure out what the course wants and the pseudocode isn't consistent with the description.\n",
    "Anyway, we should just forget that implementation and move on to better way of finding motif.\n",
    "\n",
    "### Scoring Motifs"
   ]
  },
  {
   "cell_type": "code",
   "execution_count": null,
   "metadata": {},
   "outputs": [],
   "source": []
  }
 ],
 "metadata": {
  "kernelspec": {
   "display_name": "Python 3",
   "language": "python",
   "name": "python3"
  },
  "language_info": {
   "codemirror_mode": {
    "name": "ipython",
    "version": 3
   },
   "file_extension": ".py",
   "mimetype": "text/x-python",
   "name": "python",
   "nbconvert_exporter": "python",
   "pygments_lexer": "ipython3",
   "version": "3.12.1"
  }
 },
 "nbformat": 4,
 "nbformat_minor": 2
}
