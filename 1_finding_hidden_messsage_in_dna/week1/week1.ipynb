{
 "cells": [
  {
   "cell_type": "markdown",
   "metadata": {},
   "source": [
    "# Finding the origin of replication (Ori)\n",
    "\n",
    "## Terminologies\n",
    "*k-mer - fragment (substring) of the dna with the length of `k`\n",
    "\n",
    "## 1.1 Hidden Messages in the Replication Origin\n",
    "We'd like to find where does the replication origin given a dna string. To start, we're going to count what's the most frequent k-mer by counting the frequency."
   ]
  },
  {
   "cell_type": "code",
   "execution_count": 1,
   "metadata": {},
   "outputs": [
    {
     "name": "stdout",
     "output_type": "stream",
     "text": [
      "2\n"
     ]
    }
   ],
   "source": [
    "def pattern_count(text, pattern):\n",
    "    count = 0\n",
    "    for i in range(len(text) - len(pattern) + 1):\n",
    "        if text[i:i+len(pattern)] == pattern:\n",
    "            count += 1\n",
    "    return count\n",
    "\n",
    "# Example usage\n",
    "text = \"GCGCG\"\n",
    "pattern = \"GCG\"\n",
    "print(pattern_count(text, pattern))  # Output: 2"
   ]
  },
  {
   "cell_type": "markdown",
   "metadata": {},
   "source": [
    "We say that Pattern is a most frequent k-mer in `text` if it maximizes Count(Text, Pattern) among all k-mers. To find what k-mer is the most frequent in the `text`, the most straightforward approach is to check all k-mers in the `text` string."
   ]
  },
  {
   "cell_type": "code",
   "execution_count": 2,
   "metadata": {},
   "outputs": [
    {
     "name": "stdout",
     "output_type": "stream",
     "text": [
      "['CCC']\n"
     ]
    }
   ],
   "source": [
    "def frequent_words(text, k):\n",
    "    freq_map = {}\n",
    "    n = len(text)\n",
    "    \n",
    "    for i in range(n - k + 1):\n",
    "        pattern = text[i:i+k]\n",
    "        if pattern in freq_map:\n",
    "            freq_map[pattern] += 1\n",
    "        else:\n",
    "            freq_map[pattern] = 1\n",
    "    \n",
    "    max_count = max(freq_map.values())\n",
    "    most_frequent = [pattern for pattern, count in freq_map.items() if count == max_count]\n",
    "    \n",
    "    return most_frequent\n",
    "\n",
    "# Example usage\n",
    "text = \"ACTGACTCCCACCCC\"\n",
    "k = 3\n",
    "print(frequent_words(text, k))  # Output: ['GC', 'CG']"
   ]
  },
  {
   "cell_type": "markdown",
   "metadata": {},
   "source": [
    "## 1.3 Some Hidden Messages are More Surprising than Others\n",
    "\n",
    "Let's jump to other topic a bit. This seems unrelated for now, but we'll continue. \n",
    "Recall the complement strand of dna. The A most likely pair to T, G to C, and so on. Also recall that generally we write the dna string from 5' to 3', hence denoting the complement is reversal.\n",
    "For example, the complement AAAACCCGGT is ACCGGGTTTT."
   ]
  },
  {
   "cell_type": "code",
   "execution_count": 3,
   "metadata": {},
   "outputs": [
    {
     "name": "stdout",
     "output_type": "stream",
     "text": [
      "ACCGGGTTTT\n"
     ]
    }
   ],
   "source": [
    "def reverse_complement(kmer):\n",
    "    complement = {'A': 'T', 'T': 'A', 'C': 'G', 'G': 'C'}\n",
    "    reverse_kmer = ''.join(complement[base] for base in reversed(kmer))\n",
    "    return reverse_kmer\n",
    "\n",
    "# Example usage\n",
    "kmer = \"AAAACCCGGT\"\n",
    "print(reverse_complement(kmer))  # Output: ACCGGGTTTT"
   ]
  },
  {
   "cell_type": "markdown",
   "metadata": {},
   "source": [
    "The reason we jump to the reverse complement talks is this:\n",
    "Interestingly, among the four most frequent 9-mers in ori of Vibrio cholerae, ATGATCAAG and CTTGATCAT are reverse complements of each other, resulting in the six total occurrences of these strings shown below.\n",
    "```\n",
    "atcaatgatcaacgtaagcttctaagcATGATCAAGgtgctcacacagtttatccacaac ctgagtggatgacatcaagataggtcgttgtatctccttcctctcgtactctcatgacca cggaaagATGATCAAGagaggatgatttcttggccatatcgcaatgaatacttgtgactt gtgcttccaattgacatcttcagcgccatattgcgctggccaaggtgacggagcgggatt acgaaagcatgatcatggctgttgttctgtttatcttgttttgactgagacttgttagga tagacggtttttcatcactgactagccaaagccttactctgcctgacatcgaccgtaaat tgataatgaatttacatgcttccgcgacgatttacctCTTGATCATcgatccgattgaag atcttcaattgttaattctcttgcctcgactcatagccatgatgagctCTTGATCATgtt tccttaaccctctattttttacggaagaATGATCAAGctgctgctCTTGATCATcgtttc\n",
    "```\n",
    "\n",
    "Remember here we have circular DNA of a Vibrio cholerae, an eukaryote.\n",
    "This observation leads us to the working hypothesis that ATGATCAAG and its reverse complement CTTGATCAT indeed represent DnaA boxes in Vibrio cholerae.\n",
    "\n",
    "However, before concluding that we have found the DnaA box of Vibrio cholerae, the careful bioinformatician should check if there are other short regions in the Vibrio cholerae genome exhibiting multiple occurrences of ATGATCAAG (or CTTGATCAT). After all, maybe these strings occur as repeats throughout the entire Vibrio cholerae genome, rather than just in the ori region. To this end, we need to count the occurence of the kmer substring throughout the genome. The kmer substring is denoted with `pattern` in below code."
   ]
  },
  {
   "cell_type": "code",
   "execution_count": 8,
   "metadata": {},
   "outputs": [
    {
     "name": "stdout",
     "output_type": "stream",
     "text": [
      "1 3 9\n"
     ]
    }
   ],
   "source": [
    "def retrieve_position_index(pattern, genome):\n",
    "    positions = []\n",
    "    pattern_length = len(pattern)\n",
    "    genome_length = len(genome)\n",
    "    \n",
    "    for i in range(genome_length - pattern_length + 1):\n",
    "        if genome[i:i+pattern_length] == pattern:\n",
    "            positions.append(i)\n",
    "    \n",
    "    return ' '.join(map(str, positions))\n",
    "\n",
    "# Example usage\n",
    "genome = \"GATATATGCATATACTT\"\n",
    "pattern = \"ATAT\"\n",
    "print(retrieve_position_index(pattern, genome))  # Output: \"1 3 9\""
   ]
  },
  {
   "cell_type": "code",
   "execution_count": 10,
   "metadata": {},
   "outputs": [
    {
     "name": "stdout",
     "output_type": "stream",
     "text": [
      "60039 98409 129189 152283 152354 152411 163207 197028 200160 357976 376771 392723 532935 600085 622755 1065555\n"
     ]
    }
   ],
   "source": [
    "def read_genome_from_file(file_path):\n",
    "    with open(file_path, 'r') as file:\n",
    "        genome = file.read().strip()\n",
    "    return genome\n",
    "\n",
    "# Example usage\n",
    "file_path = 'dataset/vibrio_cholerae_genome.txt'  # Replace with the path to your genome file\n",
    "genome = read_genome_from_file(file_path)\n",
    "pattern = \"CTTGATCAT\"\n",
    "print(retrieve_position_index(pattern, genome))"
   ]
  },
  {
   "cell_type": "markdown",
   "metadata": {},
   "source": [
    "## 1.4 An Explosion of Hidden Messages\n",
    "\n",
    "### The Clump Finding Problem\n",
    "It turned out, finding Ori (origin of replication) is no trivial, especially when we switch to other organism.\n",
    "Our next plan is to have a sliding window with substring length of L, which is basically a substring from genome. Then we count occurences of each k-mers within that substring. A k-mer categorized as `clump` if it appears at least `t` times. We repeat this until the sliding window ended.\n",
    "```\n",
    "find_clumps(text, k, L, t)\n",
    "\n",
    "# where:\n",
    "# text - genome\n",
    "# k - the length of k-mer\n",
    "# L - the length of substring\n",
    "```"
   ]
  },
  {
   "cell_type": "code",
   "execution_count": 2,
   "metadata": {},
   "outputs": [
    {
     "name": "stdout",
     "output_type": "stream",
     "text": [
      "{'CGACA', 'GAAGA'}\n"
     ]
    }
   ],
   "source": [
    "def find_clumps(text, k, L, t):\n",
    "    clumps = set()\n",
    "    n = len(text)\n",
    "    \n",
    "    for i in range(n - L + 1):\n",
    "        window = text[i:i+L]\n",
    "        freq_map = {}\n",
    "        \n",
    "        for j in range(L - k + 1):\n",
    "            kmer = window[j:j+k]\n",
    "            if kmer in freq_map:\n",
    "                freq_map[kmer] += 1\n",
    "            else:\n",
    "                freq_map[kmer] = 1\n",
    "        \n",
    "        for kmer, count in freq_map.items():\n",
    "            if count >= t:\n",
    "                clumps.add(kmer)\n",
    "    \n",
    "    return clumps\n",
    "\n",
    "# Example usage\n",
    "text = \"CGGACTCGACAGATGTGAAGAACGACAATGTGAAGACTCGACACGACAGAGTGAAGAGAAGAGGAAACATTGTAA\"\n",
    "k = 5\n",
    "L = 50\n",
    "t = 4\n",
    "print(find_clumps(text, k, L, t))  # Output: {'CGACA' 'GAAGA'}"
   ]
  },
  {
   "cell_type": "code",
   "execution_count": 3,
   "metadata": {},
   "outputs": [
    {
     "name": "stdout",
     "output_type": "stream",
     "text": [
      "{'CTATAGTGGT', 'ATTACTGTAA', 'GGCAATGGCT', 'GTTATACGGG', 'GGACCAGCAG', 'CTGACTGCTG', 'ACGCCGGGCA', 'GCACGCCGGG', 'CACGCCGGGC'}\n"
     ]
    }
   ],
   "source": [
    "def read_input_from_file(file_path):\n",
    "    with open(file_path, 'r') as file:\n",
    "        lines = file.readlines()\n",
    "        text = lines[0].strip()\n",
    "        k, L, t = map(int, lines[1].strip().split())\n",
    "    return text, k, L, t\n",
    "\n",
    "# Example usage\n",
    "file_path = 'dataset/code_challenge_clump_finding_problem.txt'  # Replace with the path to your input file\n",
    "text, k, L, t = read_input_from_file(file_path)\n",
    "print(find_clumps(text, k, L, t))"
   ]
  },
  {
   "cell_type": "code",
   "execution_count": null,
   "metadata": {},
   "outputs": [],
   "source": []
  }
 ],
 "metadata": {
  "kernelspec": {
   "display_name": "Python 3",
   "language": "python",
   "name": "python3"
  },
  "language_info": {
   "codemirror_mode": {
    "name": "ipython",
    "version": 3
   },
   "file_extension": ".py",
   "mimetype": "text/x-python",
   "name": "python",
   "nbconvert_exporter": "python",
   "pygments_lexer": "ipython3",
   "version": "3.12.1"
  }
 },
 "nbformat": 4,
 "nbformat_minor": 2
}
